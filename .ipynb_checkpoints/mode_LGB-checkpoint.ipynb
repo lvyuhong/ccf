{
 "cells": [
  {
   "cell_type": "code",
   "execution_count": 1,
   "metadata": {},
   "outputs": [],
   "source": [
    "import ccf\n",
    "import numpy as np\n",
    "import pandas as pd\n",
    "import matplotlib.pyplot as plt\n",
    "from tqdm import tqdm\n",
    "plt.rcParams['font.sans-serif']=['SimHei']   # 用黑体显示中文\n",
    "plt.rcParams['axes.unicode_minus']=False     # 正常显示负号"
   ]
  },
  {
   "cell_type": "markdown",
   "metadata": {},
   "source": [
    "# load data"
   ]
  },
  {
   "cell_type": "code",
   "execution_count": 2,
   "metadata": {},
   "outputs": [],
   "source": [
    "path = 'input/'\n",
    "train,test = ccf.loadData(path)"
   ]
  },
  {
   "cell_type": "code",
   "execution_count": 13,
   "metadata": {},
   "outputs": [
    {
     "data": {
      "text/html": [
       "<div>\n",
       "<style scoped>\n",
       "    .dataframe tbody tr th:only-of-type {\n",
       "        vertical-align: middle;\n",
       "    }\n",
       "\n",
       "    .dataframe tbody tr th {\n",
       "        vertical-align: top;\n",
       "    }\n",
       "\n",
       "    .dataframe thead th {\n",
       "        text-align: right;\n",
       "    }\n",
       "</style>\n",
       "<table border=\"1\" class=\"dataframe\">\n",
       "  <thead>\n",
       "    <tr style=\"text-align: right;\">\n",
       "      <th></th>\n",
       "      <th>Parameter1</th>\n",
       "      <th>Parameter2</th>\n",
       "      <th>Parameter3</th>\n",
       "      <th>Parameter4</th>\n",
       "      <th>Parameter5</th>\n",
       "      <th>Parameter6</th>\n",
       "      <th>Parameter7</th>\n",
       "      <th>Parameter8</th>\n",
       "      <th>Parameter9</th>\n",
       "      <th>Parameter10</th>\n",
       "      <th>Attribute1</th>\n",
       "      <th>Attribute2</th>\n",
       "      <th>Attribute3</th>\n",
       "      <th>Attribute4</th>\n",
       "      <th>Attribute5</th>\n",
       "      <th>Attribute6</th>\n",
       "      <th>Attribute7</th>\n",
       "      <th>Attribute8</th>\n",
       "      <th>Attribute9</th>\n",
       "      <th>Attribute10</th>\n",
       "      <th>Quality_label</th>\n",
       "    </tr>\n",
       "  </thead>\n",
       "  <tbody>\n",
       "    <tr>\n",
       "      <th>0</th>\n",
       "      <td>0.001660</td>\n",
       "      <td>0.591013</td>\n",
       "      <td>147.608373</td>\n",
       "      <td>38.186345</td>\n",
       "      <td>0.000421</td>\n",
       "      <td>0.000612</td>\n",
       "      <td>2286.523413</td>\n",
       "      <td>0.035407</td>\n",
       "      <td>0.593081</td>\n",
       "      <td>1.010385</td>\n",
       "      <td>6.856075</td>\n",
       "      <td>0.168761</td>\n",
       "      <td>1.098755</td>\n",
       "      <td>36.955992</td>\n",
       "      <td>8.454598</td>\n",
       "      <td>11.438066</td>\n",
       "      <td>177.243120</td>\n",
       "      <td>338.729256</td>\n",
       "      <td>2.021704</td>\n",
       "      <td>0.079526</td>\n",
       "      <td>Pass</td>\n",
       "    </tr>\n",
       "    <tr>\n",
       "      <th>1</th>\n",
       "      <td>1.601749</td>\n",
       "      <td>0.015052</td>\n",
       "      <td>0.035864</td>\n",
       "      <td>51.130326</td>\n",
       "      <td>0.000909</td>\n",
       "      <td>0.002397</td>\n",
       "      <td>2286.523413</td>\n",
       "      <td>0.035407</td>\n",
       "      <td>0.593081</td>\n",
       "      <td>1.010385</td>\n",
       "      <td>0.000362</td>\n",
       "      <td>11.649033</td>\n",
       "      <td>0.066671</td>\n",
       "      <td>225.632949</td>\n",
       "      <td>0.481860</td>\n",
       "      <td>20597.447822</td>\n",
       "      <td>3.723330</td>\n",
       "      <td>15.376190</td>\n",
       "      <td>0.986973</td>\n",
       "      <td>4.634376</td>\n",
       "      <td>Fail</td>\n",
       "    </tr>\n",
       "    <tr>\n",
       "      <th>2</th>\n",
       "      <td>0.098039</td>\n",
       "      <td>69.233685</td>\n",
       "      <td>0.080920</td>\n",
       "      <td>0.112265</td>\n",
       "      <td>0.000909</td>\n",
       "      <td>0.001972</td>\n",
       "      <td>2286.523413</td>\n",
       "      <td>0.035407</td>\n",
       "      <td>0.593081</td>\n",
       "      <td>1.010385</td>\n",
       "      <td>0.022201</td>\n",
       "      <td>0.078213</td>\n",
       "      <td>110.079689</td>\n",
       "      <td>2.208138</td>\n",
       "      <td>0.073525</td>\n",
       "      <td>236.079314</td>\n",
       "      <td>0.064196</td>\n",
       "      <td>0.576302</td>\n",
       "      <td>33.875790</td>\n",
       "      <td>1.813727</td>\n",
       "      <td>Fail</td>\n",
       "    </tr>\n",
       "    <tr>\n",
       "      <th>3</th>\n",
       "      <td>18.181860</td>\n",
       "      <td>0.047325</td>\n",
       "      <td>0.018061</td>\n",
       "      <td>1.098102</td>\n",
       "      <td>0.000909</td>\n",
       "      <td>0.002397</td>\n",
       "      <td>2286.523413</td>\n",
       "      <td>0.035407</td>\n",
       "      <td>0.593081</td>\n",
       "      <td>1.010385</td>\n",
       "      <td>1.459004</td>\n",
       "      <td>0.380281</td>\n",
       "      <td>0.011491</td>\n",
       "      <td>0.654517</td>\n",
       "      <td>0.025872</td>\n",
       "      <td>176.948915</td>\n",
       "      <td>0.029777</td>\n",
       "      <td>0.246726</td>\n",
       "      <td>27.117165</td>\n",
       "      <td>0.081819</td>\n",
       "      <td>Fail</td>\n",
       "    </tr>\n",
       "    <tr>\n",
       "      <th>4</th>\n",
       "      <td>0.012085</td>\n",
       "      <td>0.008749</td>\n",
       "      <td>0.005509</td>\n",
       "      <td>524.327396</td>\n",
       "      <td>0.000909</td>\n",
       "      <td>0.002397</td>\n",
       "      <td>2286.523413</td>\n",
       "      <td>0.035407</td>\n",
       "      <td>0.593081</td>\n",
       "      <td>1.010385</td>\n",
       "      <td>11.576647</td>\n",
       "      <td>1.555672</td>\n",
       "      <td>38.613386</td>\n",
       "      <td>0.260989</td>\n",
       "      <td>0.009380</td>\n",
       "      <td>194.798039</td>\n",
       "      <td>0.055053</td>\n",
       "      <td>0.014725</td>\n",
       "      <td>13.569707</td>\n",
       "      <td>18.138496</td>\n",
       "      <td>Fail</td>\n",
       "    </tr>\n",
       "  </tbody>\n",
       "</table>\n",
       "</div>"
      ],
      "text/plain": [
       "   Parameter1  Parameter2  Parameter3  Parameter4  Parameter5  Parameter6  \\\n",
       "0    0.001660    0.591013  147.608373   38.186345    0.000421    0.000612   \n",
       "1    1.601749    0.015052    0.035864   51.130326    0.000909    0.002397   \n",
       "2    0.098039   69.233685    0.080920    0.112265    0.000909    0.001972   \n",
       "3   18.181860    0.047325    0.018061    1.098102    0.000909    0.002397   \n",
       "4    0.012085    0.008749    0.005509  524.327396    0.000909    0.002397   \n",
       "\n",
       "    Parameter7  Parameter8  Parameter9  Parameter10  Attribute1  Attribute2  \\\n",
       "0  2286.523413    0.035407    0.593081     1.010385    6.856075    0.168761   \n",
       "1  2286.523413    0.035407    0.593081     1.010385    0.000362   11.649033   \n",
       "2  2286.523413    0.035407    0.593081     1.010385    0.022201    0.078213   \n",
       "3  2286.523413    0.035407    0.593081     1.010385    1.459004    0.380281   \n",
       "4  2286.523413    0.035407    0.593081     1.010385   11.576647    1.555672   \n",
       "\n",
       "   Attribute3  Attribute4  Attribute5    Attribute6  Attribute7  Attribute8  \\\n",
       "0    1.098755   36.955992    8.454598     11.438066  177.243120  338.729256   \n",
       "1    0.066671  225.632949    0.481860  20597.447822    3.723330   15.376190   \n",
       "2  110.079689    2.208138    0.073525    236.079314    0.064196    0.576302   \n",
       "3    0.011491    0.654517    0.025872    176.948915    0.029777    0.246726   \n",
       "4   38.613386    0.260989    0.009380    194.798039    0.055053    0.014725   \n",
       "\n",
       "   Attribute9  Attribute10 Quality_label  \n",
       "0    2.021704     0.079526          Pass  \n",
       "1    0.986973     4.634376          Fail  \n",
       "2   33.875790     1.813727          Fail  \n",
       "3   27.117165     0.081819          Fail  \n",
       "4   13.569707    18.138496          Fail  "
      ]
     },
     "execution_count": 13,
     "metadata": {},
     "output_type": "execute_result"
    }
   ],
   "source": [
    "train.head()"
   ]
  },
  {
   "cell_type": "code",
   "execution_count": 14,
   "metadata": {},
   "outputs": [],
   "source": [
    "dit = {'Excellent':0,'Good':1,'Pass':2,'Fail':3}\n",
    "train['label'] = train['Quality_label'].map(dit)"
   ]
  },
  {
   "cell_type": "markdown",
   "metadata": {},
   "source": [
    "# 数据处理"
   ]
  },
  {
   "cell_type": "code",
   "execution_count": 4,
   "metadata": {},
   "outputs": [],
   "source": [
    "colums = train.columns\n",
    "col_A = colums[:10]\n",
    "col_B = colums[11:20]"
   ]
  },
  {
   "cell_type": "code",
   "execution_count": 11,
   "metadata": {},
   "outputs": [],
   "source": [
    "cat_list = []\n",
    "for i in col_A:\n",
    "    if train['{}'.format(i)].nunique() < 6000:\n",
    "        cat_list.append('{}'.format(i))"
   ]
  },
  {
   "cell_type": "code",
   "execution_count": 12,
   "metadata": {},
   "outputs": [
    {
     "data": {
      "text/plain": [
       "['Parameter6', 'Parameter7', 'Parameter8', 'Parameter9', 'Parameter10']"
      ]
     },
     "execution_count": 12,
     "metadata": {},
     "output_type": "execute_result"
    }
   ],
   "source": [
    "cat_list"
   ]
  },
  {
   "cell_type": "markdown",
   "metadata": {},
   "source": [
    "# lgbm模型"
   ]
  },
  {
   "cell_type": "code",
   "execution_count": 16,
   "metadata": {},
   "outputs": [],
   "source": [
    "import lightgbm as lgb\n",
    "from sklearn.model_selection import KFold,StratifiedKFold\n",
    "from sklearn.model_selection import train_test_split\n",
    "from sklearn.metrics import accuracy_score, roc_auc_score,log_loss,mean_squared_error"
   ]
  },
  {
   "cell_type": "markdown",
   "metadata": {},
   "source": [
    "## 拆分数据"
   ]
  },
  {
   "cell_type": "code",
   "execution_count": 17,
   "metadata": {},
   "outputs": [],
   "source": [
    "X_train,X_test,y_train,y_test =train_test_split(train[col_A],train['label'],test_size=0.2)"
   ]
  },
  {
   "cell_type": "markdown",
   "metadata": {},
   "source": [
    "## 创建模型，训练模型"
   ]
  },
  {
   "cell_type": "code",
   "execution_count": 35,
   "metadata": {},
   "outputs": [
    {
     "name": "stdout",
     "output_type": "stream",
     "text": [
      "[1]\tvalid_0's multi_logloss: 1.30891\n",
      "Training until validation scores don't improve for 5 rounds.\n",
      "[2]\tvalid_0's multi_logloss: 1.29586\n",
      "[3]\tvalid_0's multi_logloss: 1.2834\n",
      "[4]\tvalid_0's multi_logloss: 1.27274\n",
      "[5]\tvalid_0's multi_logloss: 1.26351\n",
      "[6]\tvalid_0's multi_logloss: 1.25328\n",
      "[7]\tvalid_0's multi_logloss: 1.24409\n",
      "[8]\tvalid_0's multi_logloss: 1.23543\n",
      "[9]\tvalid_0's multi_logloss: 1.22768\n",
      "[10]\tvalid_0's multi_logloss: 1.2202\n",
      "[11]\tvalid_0's multi_logloss: 1.21403\n",
      "[12]\tvalid_0's multi_logloss: 1.2073\n",
      "[13]\tvalid_0's multi_logloss: 1.20229\n",
      "[14]\tvalid_0's multi_logloss: 1.19624\n",
      "[15]\tvalid_0's multi_logloss: 1.19095\n",
      "[16]\tvalid_0's multi_logloss: 1.18672\n",
      "[17]\tvalid_0's multi_logloss: 1.18158\n",
      "[18]\tvalid_0's multi_logloss: 1.1784\n",
      "[19]\tvalid_0's multi_logloss: 1.17516\n",
      "[20]\tvalid_0's multi_logloss: 1.17141\n",
      "[21]\tvalid_0's multi_logloss: 1.16779\n",
      "[22]\tvalid_0's multi_logloss: 1.16501\n",
      "[23]\tvalid_0's multi_logloss: 1.16161\n",
      "[24]\tvalid_0's multi_logloss: 1.15828\n",
      "[25]\tvalid_0's multi_logloss: 1.15486\n",
      "[26]\tvalid_0's multi_logloss: 1.15176\n",
      "[27]\tvalid_0's multi_logloss: 1.14931\n",
      "[28]\tvalid_0's multi_logloss: 1.14701\n",
      "[29]\tvalid_0's multi_logloss: 1.14447\n",
      "[30]\tvalid_0's multi_logloss: 1.14215\n",
      "[31]\tvalid_0's multi_logloss: 1.1402\n",
      "[32]\tvalid_0's multi_logloss: 1.13851\n",
      "[33]\tvalid_0's multi_logloss: 1.13694\n",
      "[34]\tvalid_0's multi_logloss: 1.13525\n",
      "[35]\tvalid_0's multi_logloss: 1.13338\n",
      "[36]\tvalid_0's multi_logloss: 1.13162\n",
      "[37]\tvalid_0's multi_logloss: 1.13026\n",
      "[38]\tvalid_0's multi_logloss: 1.12892\n",
      "[39]\tvalid_0's multi_logloss: 1.12773\n",
      "[40]\tvalid_0's multi_logloss: 1.12669\n",
      "[41]\tvalid_0's multi_logloss: 1.12601\n",
      "[42]\tvalid_0's multi_logloss: 1.12497\n",
      "[43]\tvalid_0's multi_logloss: 1.1246\n",
      "[44]\tvalid_0's multi_logloss: 1.12357\n",
      "[45]\tvalid_0's multi_logloss: 1.12275\n",
      "[46]\tvalid_0's multi_logloss: 1.12179\n",
      "[47]\tvalid_0's multi_logloss: 1.1211\n",
      "[48]\tvalid_0's multi_logloss: 1.12053\n",
      "[49]\tvalid_0's multi_logloss: 1.11984\n",
      "[50]\tvalid_0's multi_logloss: 1.1191\n",
      "[51]\tvalid_0's multi_logloss: 1.11876\n",
      "[52]\tvalid_0's multi_logloss: 1.11863\n",
      "[53]\tvalid_0's multi_logloss: 1.11805\n",
      "[54]\tvalid_0's multi_logloss: 1.11804\n",
      "[55]\tvalid_0's multi_logloss: 1.11783\n",
      "[56]\tvalid_0's multi_logloss: 1.11754\n",
      "[57]\tvalid_0's multi_logloss: 1.11707\n",
      "[58]\tvalid_0's multi_logloss: 1.11685\n",
      "[59]\tvalid_0's multi_logloss: 1.11628\n",
      "[60]\tvalid_0's multi_logloss: 1.11624\n",
      "[61]\tvalid_0's multi_logloss: 1.11613\n",
      "[62]\tvalid_0's multi_logloss: 1.11582\n",
      "[63]\tvalid_0's multi_logloss: 1.11539\n",
      "[64]\tvalid_0's multi_logloss: 1.11557\n",
      "[65]\tvalid_0's multi_logloss: 1.11576\n",
      "[66]\tvalid_0's multi_logloss: 1.11572\n",
      "[67]\tvalid_0's multi_logloss: 1.11624\n",
      "[68]\tvalid_0's multi_logloss: 1.11664\n",
      "Early stopping, best iteration is:\n",
      "[63]\tvalid_0's multi_logloss: 1.11539\n"
     ]
    },
    {
     "data": {
      "text/plain": [
       "<lightgbm.basic.Booster at 0x201501f1ef0>"
      ]
     },
     "execution_count": 35,
     "metadata": {},
     "output_type": "execute_result"
    }
   ],
   "source": [
    "####  原生形式\n",
    "params = {\n",
    "    'task': 'train',\n",
    "    'boosting_type': 'gbdt',  # 设置提升类型\n",
    "    'objective': 'multiclass', # 目标函数多分类\n",
    "    'num_class': 4, \n",
    "    'n_estimators':100, # 迭代次数 classnum*n_estimators\n",
    "#     'metric': {'l2', 'auc'},  # 评估函数\n",
    "    'metrix':'multi_logloss',\n",
    "    'num_leaves': 31,   # 叶子节点数\n",
    "    'max_depth':6,\n",
    "    'learning_rate': 0.05,  # 学习速率\n",
    "    'feature_fraction': 0.9, # 建树的特征选择比例\n",
    "    'bagging_fraction': 0.9, # 建树的样本采样比例\n",
    "    'bagging_freq': 20,  # k 意味着每 k 次迭代执行bagging\n",
    "    'verbose': 1 # <0 显示致命的, =0 显示错误 (警告), >0 显示信息\n",
    "}\n",
    "\n",
    "# lgb_train = lgb.Dataset(X_train, label=y_train, feature_name=col_A, categorical_feature=cat_list)\n",
    "lgb_train = lgb.Dataset(X_train, label=y_train)\n",
    "lgb_eval = lgb.Dataset(X_test, y_test, reference=lgb_train)\n",
    "\n",
    "gbm = lgb.train(params,\n",
    "                lgb_train,\n",
    "                num_boost_round=1000,\n",
    "                valid_sets=[lgb_eval],\n",
    "                early_stopping_rounds=5)\n",
    "\n",
    "gbm.save_model('model.txt')"
   ]
  },
  {
   "cell_type": "code",
   "execution_count": 22,
   "metadata": {},
   "outputs": [
    {
     "name": "stdout",
     "output_type": "stream",
     "text": [
      "[1]\tvalid_0's l1: 0.848822\tvalid_0's l2: 0.949633\n",
      "Training until validation scores don't improve for 5 rounds.\n",
      "[2]\tvalid_0's l1: 0.841885\tvalid_0's l2: 0.93496\n",
      "[3]\tvalid_0's l1: 0.835283\tvalid_0's l2: 0.922427\n",
      "[4]\tvalid_0's l1: 0.829221\tvalid_0's l2: 0.910766\n",
      "[5]\tvalid_0's l1: 0.823342\tvalid_0's l2: 0.900725\n",
      "[6]\tvalid_0's l1: 0.817968\tvalid_0's l2: 0.891559\n",
      "[7]\tvalid_0's l1: 0.812335\tvalid_0's l2: 0.882169\n",
      "[8]\tvalid_0's l1: 0.807237\tvalid_0's l2: 0.87413\n",
      "[9]\tvalid_0's l1: 0.802075\tvalid_0's l2: 0.866619\n",
      "[10]\tvalid_0's l1: 0.79747\tvalid_0's l2: 0.860563\n",
      "[11]\tvalid_0's l1: 0.793316\tvalid_0's l2: 0.854282\n",
      "[12]\tvalid_0's l1: 0.789241\tvalid_0's l2: 0.849324\n",
      "[13]\tvalid_0's l1: 0.785614\tvalid_0's l2: 0.844324\n",
      "[14]\tvalid_0's l1: 0.782147\tvalid_0's l2: 0.839988\n",
      "[15]\tvalid_0's l1: 0.778597\tvalid_0's l2: 0.8355\n",
      "[16]\tvalid_0's l1: 0.775286\tvalid_0's l2: 0.831445\n",
      "[17]\tvalid_0's l1: 0.771714\tvalid_0's l2: 0.827062\n",
      "[18]\tvalid_0's l1: 0.768835\tvalid_0's l2: 0.824048\n",
      "[19]\tvalid_0's l1: 0.765975\tvalid_0's l2: 0.821703\n",
      "[20]\tvalid_0's l1: 0.763703\tvalid_0's l2: 0.819036\n",
      "Did not meet early stopping. Best iteration is:\n",
      "[20]\tvalid_0's l1: 0.763703\tvalid_0's l2: 0.819036\n"
     ]
    },
    {
     "data": {
      "text/plain": [
       "LGBMRegressor(boosting_type='gbdt', class_weight=None, colsample_bytree=1.0,\n",
       "       importance_type='split', learning_rate=0.05, max_depth=-1,\n",
       "       min_child_samples=20, min_child_weight=0.001, min_split_gain=0.0,\n",
       "       n_estimators=20, n_jobs=-1, num_leaves=31, objective='regression',\n",
       "       random_state=None, reg_alpha=0.0, reg_lambda=0.0, silent=True,\n",
       "       subsample=1.0, subsample_for_bin=200000, subsample_freq=0)"
      ]
     },
     "execution_count": 22,
     "metadata": {},
     "output_type": "execute_result"
    }
   ],
   "source": [
    "#### sklearn接口形式\n",
    "gbm = lgb.LGBMRegressor(objective='regression',num_leaves=31,learning_rate=0.05,n_estimators=20)\n",
    "gbm.fit(X_train, y_train,eval_set=[(X_test, y_test)],eval_metric='l1',early_stopping_rounds=5)"
   ]
  },
  {
   "cell_type": "markdown",
   "metadata": {},
   "source": [
    "## 生成提交结果"
   ]
  },
  {
   "cell_type": "code",
   "execution_count": 43,
   "metadata": {},
   "outputs": [],
   "source": [
    "f=open(\"input/lgb.csv\",\"w\")\n",
    "ans=gbm.predict(test[col_A], num_iteration=1000)\n",
    "tmp=np.zeros([120,4])\n",
    "cnt=np.zeros([120])\n",
    "test_id=np.zeros([6000],dtype=np.int32)\n",
    "for i in range(6000):\n",
    "    ID=test_id[i]\n",
    "    tmp[ID,:]+=ans[i,:]\n",
    "    cnt[ID]+=1\n",
    "for i in range(120):\n",
    "    SUM=np.sum(tmp[i,:])\n",
    "    tmp[i,:]/=SUM\n",
    "\n",
    "f.write(\"Group,Excellent ratio,Good ratio,Pass ratio,Fail ratio\\n\")\n",
    "for i in range(120):\n",
    "    f.write(str(i))\n",
    "    for j in range(4):\n",
    "        f.write(\",\"+str(tmp[i,j]))\n",
    "    f.write(\"\\n\")\n",
    "f.close()"
   ]
  },
  {
   "cell_type": "code",
   "execution_count": 46,
   "metadata": {},
   "outputs": [
    {
     "name": "stdout",
     "output_type": "stream",
     "text": [
      "['Excellent ratio', 'Good ratio', 'Pass ratio', 'Fail ratio']\n"
     ]
    }
   ],
   "source": [
    "submit = pd.read_csv(path+'submit_example.csv')\n",
    "prediction = gbm.predict(test[col_A], num_iteration=1000)\n",
    "sub = test[['Group']]\n",
    "prob_cols = [i for i in submit.columns if i not in ['Group']]\n",
    "print(prob_cols)\n",
    "for i, f in enumerate(prob_cols):\n",
    "    sub[f] = prediction[:, i]\n",
    "for i in prob_cols:\n",
    "    sub[i] = sub.groupby('Group')[i].transform('mean')\n",
    "sub = sub.drop_duplicates()\n",
    "sub.to_csv(path+\"lgb.csv\",index=False)"
   ]
  },
  {
   "cell_type": "markdown",
   "metadata": {},
   "source": [
    "## 模型评估"
   ]
  },
  {
   "cell_type": "code",
   "execution_count": 37,
   "metadata": {},
   "outputs": [
    {
     "ename": "ValueError",
     "evalue": "y_true and y_pred have different number of output (1!=4)",
     "output_type": "error",
     "traceback": [
      "\u001b[1;31m---------------------------------------------------------------------------\u001b[0m",
      "\u001b[1;31mValueError\u001b[0m                                Traceback (most recent call last)",
      "\u001b[1;32m<ipython-input-37-a3ab2273a645>\u001b[0m in \u001b[0;36m<module>\u001b[1;34m()\u001b[0m\n\u001b[0;32m      1\u001b[0m \u001b[1;31m# y_pred = gbm.predict(X_test, num_iteration=gbm.best_iteration_)\u001b[0m\u001b[1;33m\u001b[0m\u001b[1;33m\u001b[0m\u001b[0m\n\u001b[0;32m      2\u001b[0m \u001b[0my_pred\u001b[0m \u001b[1;33m=\u001b[0m \u001b[0mgbm\u001b[0m\u001b[1;33m.\u001b[0m\u001b[0mpredict\u001b[0m\u001b[1;33m(\u001b[0m\u001b[0mX_test\u001b[0m\u001b[1;33m)\u001b[0m\u001b[1;33m\u001b[0m\u001b[0m\n\u001b[1;32m----> 3\u001b[1;33m \u001b[0mprint\u001b[0m\u001b[1;33m(\u001b[0m\u001b[1;34m'The rmse of prediction is:'\u001b[0m\u001b[1;33m,\u001b[0m \u001b[0mmean_squared_error\u001b[0m\u001b[1;33m(\u001b[0m\u001b[0my_test\u001b[0m\u001b[1;33m,\u001b[0m \u001b[0my_pred\u001b[0m\u001b[1;33m)\u001b[0m \u001b[1;33m**\u001b[0m \u001b[1;36m0.5\u001b[0m\u001b[1;33m)\u001b[0m\u001b[1;33m\u001b[0m\u001b[0m\n\u001b[0m",
      "\u001b[1;32mD:\\programfiles\\anaconda3\\lib\\site-packages\\sklearn\\metrics\\regression.py\u001b[0m in \u001b[0;36mmean_squared_error\u001b[1;34m(y_true, y_pred, sample_weight, multioutput)\u001b[0m\n\u001b[0;32m    236\u001b[0m     \"\"\"\n\u001b[0;32m    237\u001b[0m     y_type, y_true, y_pred, multioutput = _check_reg_targets(\n\u001b[1;32m--> 238\u001b[1;33m         y_true, y_pred, multioutput)\n\u001b[0m\u001b[0;32m    239\u001b[0m     output_errors = np.average((y_true - y_pred) ** 2, axis=0,\n\u001b[0;32m    240\u001b[0m                                weights=sample_weight)\n",
      "\u001b[1;32mD:\\programfiles\\anaconda3\\lib\\site-packages\\sklearn\\metrics\\regression.py\u001b[0m in \u001b[0;36m_check_reg_targets\u001b[1;34m(y_true, y_pred, multioutput)\u001b[0m\n\u001b[0;32m     85\u001b[0m     \u001b[1;32mif\u001b[0m \u001b[0my_true\u001b[0m\u001b[1;33m.\u001b[0m\u001b[0mshape\u001b[0m\u001b[1;33m[\u001b[0m\u001b[1;36m1\u001b[0m\u001b[1;33m]\u001b[0m \u001b[1;33m!=\u001b[0m \u001b[0my_pred\u001b[0m\u001b[1;33m.\u001b[0m\u001b[0mshape\u001b[0m\u001b[1;33m[\u001b[0m\u001b[1;36m1\u001b[0m\u001b[1;33m]\u001b[0m\u001b[1;33m:\u001b[0m\u001b[1;33m\u001b[0m\u001b[0m\n\u001b[0;32m     86\u001b[0m         raise ValueError(\"y_true and y_pred have different number of output \"\n\u001b[1;32m---> 87\u001b[1;33m                          \"({0}!={1})\".format(y_true.shape[1], y_pred.shape[1]))\n\u001b[0m\u001b[0;32m     88\u001b[0m \u001b[1;33m\u001b[0m\u001b[0m\n\u001b[0;32m     89\u001b[0m     \u001b[0mn_outputs\u001b[0m \u001b[1;33m=\u001b[0m \u001b[0my_true\u001b[0m\u001b[1;33m.\u001b[0m\u001b[0mshape\u001b[0m\u001b[1;33m[\u001b[0m\u001b[1;36m1\u001b[0m\u001b[1;33m]\u001b[0m\u001b[1;33m\u001b[0m\u001b[0m\n",
      "\u001b[1;31mValueError\u001b[0m: y_true and y_pred have different number of output (1!=4)"
     ]
    }
   ],
   "source": [
    "# y_pred = gbm.predict(X_test, num_iteration=gbm.best_iteration_)\n",
    "# print('The rmse of prediction is:', mean_squared_error(y_test, y_pred) ** 0.5)\n",
    "y_pred = gbm.predict(X_test)\n"
   ]
  },
  {
   "cell_type": "markdown",
   "metadata": {},
   "source": [
    "## feature importance"
   ]
  },
  {
   "cell_type": "code",
   "execution_count": 25,
   "metadata": {},
   "outputs": [
    {
     "name": "stdout",
     "output_type": "stream",
     "text": [
      "Feature importances: [45, 24, 41, 31, 58, 46, 44, 60, 55, 196]\n"
     ]
    }
   ],
   "source": [
    "print('Feature importances:', list(gbm.feature_importances_))"
   ]
  },
  {
   "cell_type": "markdown",
   "metadata": {},
   "source": [
    "## 网络搜索参数"
   ]
  },
  {
   "cell_type": "code",
   "execution_count": null,
   "metadata": {},
   "outputs": [],
   "source": [
    "estimator = lgb.LGBMRegressor(num_leaves=31)\n",
    "\n",
    "param_grid = {\n",
    "    'learning_rate': [0.01, 0.1, 1],\n",
    "    'n_estimators': [20, 40]\n",
    "}\n",
    "\n",
    "gbm = GridSearchCV(estimator, param_grid)\n",
    "\n",
    "gbm.fit(X_train, y_train)\n",
    "\n",
    "print('Best parameters found by grid search are:', gbm.best_params_)"
   ]
  }
 ],
 "metadata": {
  "kernelspec": {
   "display_name": "Python 3",
   "language": "python",
   "name": "python3"
  },
  "language_info": {
   "codemirror_mode": {
    "name": "ipython",
    "version": 3
   },
   "file_extension": ".py",
   "mimetype": "text/x-python",
   "name": "python",
   "nbconvert_exporter": "python",
   "pygments_lexer": "ipython3",
   "version": "3.6.5"
  },
  "toc": {
   "base_numbering": 1,
   "nav_menu": {},
   "number_sections": true,
   "sideBar": true,
   "skip_h1_title": false,
   "title_cell": "Table of Contents",
   "title_sidebar": "Contents",
   "toc_cell": false,
   "toc_position": {},
   "toc_section_display": true,
   "toc_window_display": true
  }
 },
 "nbformat": 4,
 "nbformat_minor": 2
}
